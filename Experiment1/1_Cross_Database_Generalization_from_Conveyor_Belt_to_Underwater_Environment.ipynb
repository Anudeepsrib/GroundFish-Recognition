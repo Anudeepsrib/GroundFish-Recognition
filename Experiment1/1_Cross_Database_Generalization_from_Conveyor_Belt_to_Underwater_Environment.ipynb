{
  "cells": [
    {
      "cell_type": "markdown",
      "source": [
        "# **Experiment 1**: Cross-Database Generalization from Conveyor Belt to Underwater Environment"
      ],
      "metadata": {
        "id": "jEks5sUyeRhb"
      }
    },
    {
      "cell_type": "markdown",
      "source": [
        "**Computational Environment**: Utilized Google Colab and NVIDIA V100 GPU for training efficiency."
      ],
      "metadata": {
        "id": "HGRBekTOeuOb"
      }
    },
    {
      "cell_type": "markdown",
      "source": [
        "\n",
        "*   **Objective**: Assess model's adaptability from a controlled conveyor belt environment to a complex underwater setting.\n",
        "*   **Training**: Conveyor Belt Dataset.\n",
        "*   **Validation**: Conveyor Belt Dataset subset.\n",
        "*   **Testing**: Underwater Dataset to assess generalization capabilities.\n",
        "\n"
      ],
      "metadata": {
        "id": "87XwoOgWdKz-"
      }
    },
    {
      "cell_type": "markdown",
      "source": [
        "## Initialization"
      ],
      "metadata": {
        "id": "zIlwCewUe23A"
      }
    },
    {
      "cell_type": "code",
      "execution_count": null,
      "metadata": {
        "id": "Y8cDtxLIBHgQ"
      },
      "outputs": [],
      "source": [
        "# This command checks the status and specification of the NVIDIA GPU in the system.\n",
        "!nvidia-smi"
      ]
    },
    {
      "cell_type": "markdown",
      "source": [
        "- `!`: This symbol is used in Jupyter notebooks (like Google Colab) to execute shell commands.\n",
        "- `nvidia-smi`: NVIDIA System Management Interface, a command-line utility, provides information about GPU properties and usage. This includes details like the GPU model, its current usage, GPU memory, driver version, and the processes currently utilizing the GPU. It's particularly useful for monitoring and managing the GPU's performance during deep learning and other GPU-intensive tasks.\n"
      ],
      "metadata": {
        "id": "CIZlC5ZBiBe4"
      }
    },
    {
      "cell_type": "code",
      "execution_count": null,
      "metadata": {
        "id": "CjpPg4mGKc1v"
      },
      "outputs": [],
      "source": [
        "# Import the OS module for interacting with the operating system\n",
        "import os\n",
        "\n",
        "# Get the current working directory and store it in the variable HOME\n",
        "HOME = os.getcwd()\n",
        "\n",
        "# Print the path stored in the HOME variable\n",
        "print(HOME)"
      ]
    },
    {
      "cell_type": "markdown",
      "source": [
        "- `import os`: This line imports the OS module, which provides a way of using operating system dependent functionality.\n",
        "- `os.getcwd()`: This function call gets the current working directory, i.e., the folder in which the Python script is operating.\n",
        "- `HOME = os.getcwd()`: Here, the current working directory is stored in a variable named `HOME` for later use.\n",
        "- `print(HOME)`: This line prints the path stored in `HOME`. It's useful for confirming the current directory context of your Python script, especially in environments like Jupyter notebooks where the working directory might not be immediately clear.\n"
      ],
      "metadata": {
        "id": "uu7_9_GgiSZm"
      }
    },
    {
      "cell_type": "code",
      "execution_count": null,
      "metadata": {
        "id": "tdSMcABDNKW-"
      },
      "outputs": [],
      "source": [
        "# Install a specific version of the 'ultralytics' package using pip\n",
        "!pip install ultralytics==8.0.20\n",
        "\n",
        "# Import the 'display' module from 'IPython' and clear the output\n",
        "from IPython import display\n",
        "display.clear_output()\n",
        "\n",
        "# Import and perform checks with the ultralytics package\n",
        "import ultralytics\n",
        "ultralytics.checks()"
      ]
    },
    {
      "cell_type": "markdown",
      "source": [
        "- `!`: This symbol allows shell commands to be run in Jupyter notebooks (like Google Colab).\n",
        "- `pip install ultralytics==8.0.20`: This command uses pip, the package installer for Python, to install a specific version (8.0.20) of the 'ultralytics' package. The version number is specified to ensure compatibility and consistency in the environment.\n",
        "- `from IPython import display`: This line imports the 'display' module from the 'IPython' library. 'IPython' provides more advanced interactive features than standard Python.\n",
        "- `display.clear_output()`: This function call clears the output of the current cell in a Jupyter notebook. It's useful for keeping the notebook tidy, especially after running installation commands that produce a lot of text.\n",
        "- `import ultralytics`: This line imports the 'ultralytics' package, which is assumed to offer functionalities related to machine learning or computer vision tasks.\n",
        "- `ultralytics.checks()`: This function call presumably runs a series of diagnostic or setup checks associated with the 'ultralytics' package. This might include verifying installation, checking for necessary dependencies, or validating the environment setup.\n"
      ],
      "metadata": {
        "id": "3ghfs0U-jbBQ"
      }
    },
    {
      "cell_type": "code",
      "execution_count": null,
      "metadata": {
        "id": "VOEYrlBoP9-E"
      },
      "outputs": [],
      "source": [
        "# Import the YOLO class from the ultralytics package\n",
        "from ultralytics import YOLO\n",
        "\n",
        "# Import display and Image functions from the IPython.display module\n",
        "from IPython.display import display, Image"
      ]
    },
    {
      "cell_type": "markdown",
      "source": [
        "- `from ultralytics import YOLO`: This line imports the YOLO (You Only Look Once) class from the 'ultralytics' package. YOLO is a popular object detection algorithm known for its efficiency and accuracy. The 'ultralytics' implementation of YOLO is likely optimized for specific use cases or performance characteristics.\n",
        "- `from IPython.display import display, Image`: This line imports two functions, `display` and `Image`, from the `IPython.display` module.\n",
        "- `display`: This function is used to output (or \"display\") Python objects in rich formats (like images, videos, or interactive widgets) within Jupyter notebooks.\n",
        "- `Image`: This is a class used to display images in Jupyter notebooks. It can handle images sourced from a file, a URL, or raw image data in various formats."
      ],
      "metadata": {
        "id": "SDj3L2kaj05M"
      }
    },
    {
      "cell_type": "markdown",
      "source": [
        "# **Training with Conveyor Belt Dataset**"
      ],
      "metadata": {
        "id": "SRMtvTJMwgDb"
      }
    },
    {
      "cell_type": "markdown",
      "source": [
        "## Fetching the Conveyor Belt Dataset through API from RoboFlow"
      ],
      "metadata": {
        "id": "PzwiS4c0dJWO"
      }
    },
    {
      "cell_type": "code",
      "execution_count": null,
      "metadata": {
        "id": "BSd93ZJzZZKt"
      },
      "outputs": [],
      "source": [
        "# Create a new directory for datasets and change the current working directory to it\n",
        "!mkdir {HOME}/datasets\n",
        "%cd {HOME}/datasets\n",
        "\n",
        "# Install the Roboflow package using pip\n",
        "!pip install roboflow\n",
        "\n",
        "# Import Roboflow and set up the project and dataset\n",
        "from roboflow import Roboflow\n",
        "rf = Roboflow(api_key=\"ebMjZPLXM8pNSTq3989b\")\n",
        "project = rf.workspace(\"pratishthit-choudhary\").project(\"fish-conveyor-segmentation\")\n",
        "dataset = project.version(7).download(\"yolov8\")"
      ]
    },
    {
      "cell_type": "markdown",
      "source": [
        "- `!mkdir {HOME}/datasets`: This command creates a new directory named 'datasets' in the location specified by the `HOME` variable. The `!` indicates that it's a shell command.\n",
        "- `{HOME}`: This is a variable that holds the path to the current working directory. Using `{}` syntax allows shell commands to access Python variables.\n",
        "- `%cd {HOME}/datasets`: This changes the current working directory of the notebook to the newly created 'datasets' directory. `%cd` is a magic command in Jupyter notebooks for changing directories.\n",
        "- `!pip install roboflow`: This command installs the 'roboflow' Python package. Roboflow is a tool that helps in managing, preprocessing, augmenting, and versioning datasets for computer vision applications.\n",
        "- `from roboflow import Roboflow`: Imports the Roboflow class from the roboflow package.\n",
        "- `rf = Roboflow(api_key=\"...\")`: Creates an instance of the Roboflow class, initializing it with an API key.\n",
        "- `project = rf.workspace(\"project-5fr4i\").project(\"underwater-fish-detection\")`: Accesses a specific workspace and project within Roboflow. In this case, the project is named 'underwater-fish-detection'.\n",
        "- `dataset = project.version(2).download(\"yolov8\")`: Downloads version 2 of the dataset from the specified project and prepares it for use with the YOLOv8 object detection model. The 'yolov8' argument indicates the format or configuration in which the dataset should be downloaded.\n"
      ],
      "metadata": {
        "id": "E3wcMOZGkoGZ"
      }
    },
    {
      "cell_type": "markdown",
      "metadata": {
        "id": "YUjFBKKqXa-u"
      },
      "source": [
        "## Custom Training"
      ]
    },
    {
      "cell_type": "code",
      "execution_count": null,
      "metadata": {
        "id": "D2YkphuiaE7_"
      },
      "outputs": [],
      "source": [
        "# Change the current working directory back to HOME\n",
        "%cd {HOME}\n",
        "\n",
        "# Execute the YOLO training command\n",
        "!yolo task=detect mode=train model=yolov8l-seg.pt data={dataset.location}/data.yaml epochs=50 imgsz=640 plots=True"
      ]
    },
    {
      "cell_type": "markdown",
      "source": [
        "- `%cd {HOME}`: This Jupyter notebook magic command is used to change the current working directory. `{HOME}` is a variable that contains the path to the home directory. The command ensures that the working directory is set to `HOME` before executing further commands.\n",
        "- `!yolo`: This command runs the YOLO (You Only Look Once) object detection model. The `!` indicates that it is a shell command, which is used to execute programs available in the system environment from within the Jupyter notebook.\n",
        "- `task=detect`: Specifies the task for the YOLO model, which in this case is object detection.\n",
        "- `mode=train`: Sets the mode of operation to 'train', meaning that the model will be trained on the specified dataset.\n",
        "- `model=yolov8l-seg.pt`: Points to the specific YOLO model file to be used for training. In this case, it's 'yolov8l-seg.pt', which is a version of YOLOv8 designed for segmentation tasks.\n",
        "- `data={dataset.location}/data.yaml`: Specifies the path to the dataset configuration file. `{dataset.location}` is a variable that contains the location of the dataset, and `data.yaml` is a YAML file that includes the dataset details like paths to training and validation data, class names, etc.\n",
        "- `epochs=50`: Sets the number of training cycles (epochs) through the dataset. Here, the model will go through the dataset 50 times.\n",
        "- `imgsz=640`: Specifies the size of the images for training, set to 640 pixels.\n",
        "- `plots=True`: Enables the generation of plots during the training process. These plots can provide visual insights into the training progress, such as loss and accuracy metrics over time.\n",
        "\n",
        "**Note:**\n",
        "Ensure that the YOLO model file 'yolov8l-seg.pt' and the dataset configuration file 'data.yaml' are correctly placed and accessible in the specified locations. Also, the `yolo` command should be properly set up in your environment to execute this training process.\n"
      ],
      "metadata": {
        "id": "tTuSK6PzlHND"
      }
    },
    {
      "cell_type": "markdown",
      "source": [
        "## Evaluating the model performance"
      ],
      "metadata": {
        "id": "AH9KClkpf8UD"
      }
    },
    {
      "cell_type": "code",
      "execution_count": null,
      "metadata": {
        "id": "1MScstfHhArr"
      },
      "outputs": [],
      "source": [
        "# List the contents of the training run directory\n",
        "!ls {HOME}/runs/segment/train/"
      ]
    },
    {
      "cell_type": "markdown",
      "source": [
        "- `!ls`: This is a shell command to list the contents of a directory.\n",
        "- `{HOME}/runs/detect/train/`: The directory path where the training output of the YOLO model is stored. The `{HOME}` variable is replaced with the path to the home directory as defined earlier in the code. The rest of the path (`/runs/detect/train/`) is presumably the default or specified directory structure used by YOLO for storing training outputs.\n",
        "- This command will display the files and directories inside the specified path, which can include model weights, logs, images, and other artifacts generated during the training process.\n",
        "\n",
        "**Note:**\n",
        "The `!ls` command is used for Unix/Linux based systems. If you're using a different operating system (like Windows), the command might differ (like `!dir` in Windows).\n"
      ],
      "metadata": {
        "id": "uUPJgdDMwSwJ"
      }
    },
    {
      "cell_type": "code",
      "execution_count": null,
      "metadata": {
        "id": "_J35i8Ofhjxa"
      },
      "outputs": [],
      "source": [
        "# Change the current working directory back to HOME\n",
        "%cd {HOME}\n",
        "\n",
        "# Display the confusion matrix image from the training output\n",
        "from IPython.display import Image\n",
        "Image(filename=f'{HOME}/runs/segment/train/confusion_matrix.png', width=1000)"
      ]
    },
    {
      "cell_type": "markdown",
      "source": [
        "- `%cd {HOME}`: This line is a Jupyter notebook magic command to change the current working directory. `{HOME}` is a variable that contains the path to the 'home' directory, ensuring that the notebook's working context is set to this directory.\n",
        "- `from IPython.display import Image`: This line imports the `Image` class from the `IPython.display` module, which is used for embedding images in Jupyter notebooks.\n",
        "- `Image(filename=f'{HOME}/runs/detect/train/confusion_matrix.png', width=1000)`: This line creates an instance of the `Image` class.\n",
        "  - `filename=f'{HOME}/runs/detect/train/confusion_matrix.png'`: This specifies the path to the image file to be displayed. The path is constructed using an f-string to combine the `HOME` variable with the relative path to the confusion matrix image.\n",
        "  - `width=1000`: This sets the width of the displayed image to 1000 pixels.\n",
        "- This command will display the confusion matrix image from the YOLO model's training output. The confusion matrix is a useful tool for understanding the performance of classification models, showing how often each class is correctly or incorrectly predicted."
      ],
      "metadata": {
        "id": "XhbJI3X8wk51"
      }
    },
    {
      "cell_type": "markdown",
      "metadata": {
        "id": "6ODk1VTlevxn"
      },
      "source": [
        "## Validate Custom Model"
      ]
    },
    {
      "cell_type": "code",
      "execution_count": null,
      "metadata": {
        "id": "YpyuwrNlXc1P"
      },
      "outputs": [],
      "source": [
        "# Change the current working directory back to HOME\n",
        "%cd {HOME}\n",
        "\n",
        "# Run the YOLO model in validation mode\n",
        "!yolo task=detect mode=val model={HOME}/runs/segment/train/weights/best.pt data={dataset.location}/data.yaml"
      ]
    },
    {
      "cell_type": "markdown",
      "source": [
        "- `%cd {HOME}`: This Jupyter notebook magic command changes the current working directory. `{HOME}` is a variable that holds the path to the 'home' directory. By executing this command, the notebook's working directory is set to the home directory.\n",
        "- `!yolo`: This command runs the YOLO (You Only Look Once) object detection algorithm. The `!` indicates that it's a shell command.\n",
        "- `task=detect`: Specifies the task as 'detect', indicating an object detection task.\n",
        "- `mode=val`: Sets the mode to 'val' (short for validation), meaning the model will be evaluated against the validation dataset rather than being trained.\n",
        "- `model={HOME}/runs/detect/train/weights/best.pt`: Points to the model weights file to be used for validation. `{HOME}` is replaced with the path to the home directory, and the rest of the path specifies the location of the best model weights file generated during training.\n",
        "- `data={dataset.location}/data.yaml`: Specifies the path to the dataset configuration file. `{dataset.location}` is a Python variable containing the path to the dataset, and `data.yaml` is a file that usually contains details about the dataset, like paths to validation data, class names, etc.\n",
        "\n",
        "**Note:**\n",
        "Ensure that the `yolo` command and the necessary files and paths are correctly set up in your environment. This command is designed to validate the performance of the YOLO model using the specified weights and dataset, which is a crucial step in the model development process.\n"
      ],
      "metadata": {
        "id": "a1y41siaoVbx"
      }
    },
    {
      "cell_type": "code",
      "execution_count": null,
      "metadata": {
        "id": "HI4nADCCj3F5"
      },
      "outputs": [],
      "source": [
        "# Change the current working directory back to HOME\n",
        "%cd {HOME}\n",
        "\n",
        "# Display an image of validation predictions\n",
        "from IPython.display import Image\n",
        "Image(filename=f'{HOME}/runs/segment/train/val_batch0_pred.jpg', width=600)"
      ]
    },
    {
      "cell_type": "markdown",
      "source": [
        "- `%cd {HOME}`: This command, a Jupyter notebook magic function, changes the current working directory to the directory stored in the `HOME` variable. It ensures that the notebook operates in the specified 'home' directory context.\n",
        "- `from IPython.display import Image`: Imports the `Image` class from the `IPython.display` module, which is used for embedding images in Jupyter notebooks.\n",
        "- `Image(filename=f'{HOME}/runs/detect/train/val_batch0_pred.jpg', width=600)`: This line creates an instance of the `Image` class to display an image.\n",
        "  - `filename=f'{HOME}/runs/detect/train/val_batch0_pred.jpg'`: Specifies the path to the image file to be displayed. The path is constructed using an f-string that includes the `HOME` variable and the relative path to the validation batch prediction image.\n",
        "  - `width=600`: Sets the width of the image to be displayed to 600 pixels.\n",
        "- This command is used to display the 'val_batch0_pred.jpg' image, which likely shows the predictions made by the YOLO model on the first batch of the validation dataset. Such images are useful for visually assessing the model's performance in terms of its ability to correctly detect and label objects.\n"
      ],
      "metadata": {
        "id": "aPqmIjNQn5IZ"
      }
    },
    {
      "cell_type": "markdown",
      "metadata": {
        "id": "i4eASbcWkQBq"
      },
      "source": [
        "## Predictions using Conveyor Belt test dataset"
      ]
    },
    {
      "cell_type": "code",
      "execution_count": null,
      "metadata": {
        "id": "Wjc1ctZykYuf"
      },
      "outputs": [],
      "source": [
        "# Change the current working directory back to HOME\n",
        "%cd {HOME}\n",
        "\n",
        "# Run the YOLO model in prediction mode\n",
        "!yolo task=detect mode=predict model={HOME}/runs/segment/train/weights/best.pt conf=0.25 source={dataset.location}/test/images save=True"
      ]
    },
    {
      "cell_type": "markdown",
      "source": [
        "# Testing the above model with Underwater dataset"
      ],
      "metadata": {
        "id": "qiMmMqK-vfHp"
      }
    },
    {
      "cell_type": "markdown",
      "source": [
        "## Fetching the underwater dataset from RoboFlow"
      ],
      "metadata": {
        "id": "mRI8CrsewL07"
      }
    },
    {
      "cell_type": "code",
      "source": [
        "%cd {HOME}/datasets\n",
        "\n",
        "from roboflow import Roboflow\n",
        "rf = Roboflow(api_key=\"*********************\")\n",
        "project = rf.workspace(\"project-5fr4i\").project(\"underwater-fish-detection\")\n",
        "dataset = project.version(2).download(\"yolov8\")"
      ],
      "metadata": {
        "id": "v_hsDoqsvelK"
      },
      "execution_count": null,
      "outputs": []
    },
    {
      "cell_type": "markdown",
      "source": [
        "- `{HOME}`: This is a variable that holds the path to the current working directory. Using `{}` syntax allows shell commands to access Python variables.\n",
        "- `%cd {HOME}/datasets`: This changes the current working directory of the notebook to the newly created 'datasets' directory. `%cd` is a magic command in Jupyter notebooks for changing directories.\n",
        "- `!pip install roboflow`: This command installs the 'roboflow' Python package. Roboflow is a tool that helps in managing, preprocessing, augmenting, and versioning datasets for computer vision applications.\n",
        "- `from roboflow import Roboflow`: Imports the Roboflow class from the roboflow package.\n",
        "- `rf = Roboflow(api_key=\"...\")`: Creates an instance of the Roboflow class, initializing it with an API key.\n",
        "- `project = rf.workspace(\"project-5fr4i\").project(\"underwater-fish-detection\")`: Accesses a specific workspace and project within Roboflow. In this case, the project is named 'underwater-fish-detection'.\n",
        "- `dataset = project.version(2).download(\"yolov8\")`: Downloads version 2 of the dataset from the specified project and prepares it for use with the YOLOv8 object detection model. The 'yolov8' argument indicates the format or configuration in which the dataset should be downloaded.\n"
      ],
      "metadata": {
        "id": "BkeDDpTZxU1R"
      }
    },
    {
      "cell_type": "code",
      "source": [
        "# Change the current working directory back to HOME\n",
        "%cd {HOME}\n",
        "\n",
        "# Run the YOLO model in prediction mode\n",
        "!yolo task=detect mode=predict model={HOME}/runs/segment/train/weights/best.pt conf=0.25 source={dataset.location}/test/images save=True"
      ],
      "metadata": {
        "id": "TOZFmbdT2Uf_"
      },
      "execution_count": null,
      "outputs": []
    },
    {
      "cell_type": "code",
      "execution_count": null,
      "metadata": {
        "id": "jbVjEtPAkz3j"
      },
      "outputs": [],
      "source": [
        "# Import necessary modules\n",
        "import glob\n",
        "from IPython.display import Image, display\n",
        "\n",
        "# Loop through and display the first three .jpg images from a specific directory\n",
        "for image_path in glob.glob(f'{HOME}/runs/detect/predict3/*.jpg')[:3]:\n",
        "    display(Image(filename=image_path, width=600))\n",
        "    print(\"\\n\")"
      ]
    },
    {
      "cell_type": "markdown",
      "source": [
        "- `import glob`: This line imports the `glob` module, which is used to find all the pathnames matching a specified pattern according to the rules used by the Unix shell. It's useful for file searching.\n",
        "- `from IPython.display import Image, display`: Imports the `Image` class and `display` function from the `IPython.display` module for displaying images in Jupyter notebooks.\n",
        "- `glob.glob(f'{HOME}/runs/detect/predict3/*.jpg')[:3]`:\n",
        "  - `glob.glob()`: This function retrieves a list of file paths matching the specified pattern.\n",
        "  - `f'{HOME}/runs/detect/predict3/*.jpg'`: An f-string that creates a file path pattern, looking for all `.jpg` files in the specified directory. `{HOME}` is replaced with the path stored in the `HOME` variable.\n",
        "  - `[:3]`: This slices the list to include only the first three images.\n",
        "- `for image_path in ...`: This for loop iterates over the first three image paths returned by `glob`.\n",
        "  - `display(Image(filename=image_path, width=600))`: Displays each image in the notebook. `Image(filename=image_path, width=600)` creates an `Image` object for each file path, and `display()` outputs it in the notebook.\n",
        "  - `print(\"\\n\")`: Prints a newline after each image for better separation and readability in the notebook.\n",
        "\n",
        "**Note:**\n",
        "This code snippet is typically used for visually inspecting a few sample prediction results. It helps in quickly assessing the model's performance on the test images."
      ],
      "metadata": {
        "id": "dXkluIxJmEhP"
      }
    },
    {
      "cell_type": "markdown",
      "source": [
        "# **Export Runtime**"
      ],
      "metadata": {
        "id": "DLtsBIPWdTwg"
      }
    },
    {
      "cell_type": "code",
      "source": [
        "import zipfile\n",
        "\n",
        "def download_folder(folder_path, zip_file_name):\n",
        "    \"\"\"\n",
        "    Downloads a folder from runtime in Colab.\n",
        "\n",
        "    Args:\n",
        "        folder_path: The path to the folder to download.\n",
        "        zip_file_name: The name of the ZIP file to download.\n",
        "    \"\"\"\n",
        "    # Create a ZIP file and add files from the specified folder\n",
        "    with zipfile.ZipFile(zip_file_name, 'w') as zip_file:\n",
        "        for root, dirs, files in os.walk(folder_path):\n",
        "            for file in files:\n",
        "                # Add each file to the ZIP file\n",
        "                zip_file.write(os.path.join(root, file))\n",
        "\n",
        "    # Import the files module from google.colab\n",
        "    from google.colab import files\n",
        "    # Download the created ZIP file\n",
        "    files.download(zip_file_name)\n",
        "\n",
        "\n",
        "# Example usage:\n",
        "folder_path = '/content/runs'\n",
        "zip_file_name = 'Train on Pratish’s dataset and test on yours.zip'\n",
        "\n",
        "# Calling the function to download the specified folder\n",
        "download_folder(folder_path, zip_file_name)"
      ],
      "metadata": {
        "id": "WswKWjTSkGvX"
      },
      "execution_count": null,
      "outputs": []
    },
    {
      "cell_type": "markdown",
      "source": [
        "- `import zipfile`: Imports the `zipfile` module, which is used to work with ZIP archive files.\n",
        "- `download_folder(folder_path, zip_file_name)`: This function is defined to download a specified folder from the Google Colab runtime as a ZIP file.\n",
        "- `zipfile.ZipFile(zip_file_name, 'w')`: Opens a new ZIP file in write mode. If the file already exists, it will be overwritten.\n",
        "- `os.walk(folder_path)`: Generates the file names in the directory tree by walking the tree either top-down or bottom-up.\n",
        "- `zip_file.write(os.path.join(root, file))`: Adds each file to the ZIP file.\n",
        "- `from google.colab import files`: Imports the `files` module from `google.colab`, which contains the `download` function.\n",
        "- `files.download(zip_file_name)`: Downloads the ZIP file to the local system.\n",
        "\n",
        "**Note:**\n",
        "This script is particularly useful in Google Colab environments for conveniently downloading multiple files or an entire directory as a ZIP archive. It's a common practice when working with cloud-based notebooks to easily retrieve results, data, or models generated during a session.\n"
      ],
      "metadata": {
        "id": "0jqOOnUyir68"
      }
    },
    {
      "cell_type": "code",
      "source": [
        "# Run inference on your model on a persistent, auto-scaling, cloud API\n",
        "\n",
        "# Load the trained model from the project version\n",
        "model = project.version(dataset.version).model\n",
        "\n",
        "# Choose a random test set image\n",
        "import os, random\n",
        "test_set_loc = dataset.location + \"/test/images/\"\n",
        "random_test_image = random.choice(os.listdir(test_set_loc))\n",
        "print(\"running inference on \" + random_test_image)\n",
        "\n",
        "# Run the model prediction and get the results in JSON format\n",
        "pred = model.predict(test_set_loc + random_test_image, confidence=40, overlap=30).json()"
      ],
      "metadata": {
        "id": "2F226yhyyBC0"
      },
      "execution_count": null,
      "outputs": []
    },
    {
      "cell_type": "markdown",
      "source": [
        "- `model = project.version(dataset.version).model`: This line of code retrieves the model from a specific version of the dataset, assuming `project` and `dataset` are predefined objects related to your dataset and project setup, typically from a service like Roboflow.\n",
        "- `import os, random`: Imports the `os` and `random` modules. `os` is used for interacting with the operating system, and `random` for generating random numbers.\n",
        "- `test_set_loc = dataset.location + \"/test/images/\"`: Constructs the path to the test images directory.\n",
        "- `random.choice(os.listdir(test_set_loc))`: Randomly selects an image file from the test images directory.\n",
        "- `print(\"running inference on \" + random_test_image)`: Prints the name of the selected image file.\n",
        "- `pred = model.predict(...)`: Calls the `predict` method on the `model` object. This method performs object detection inference on the specified image.\n",
        "  - `test_set_loc + random_test_image`: Specifies the full path of the image on which to run inference.\n",
        "  - `confidence=40, overlap=30`: Sets the confidence threshold to 40% and the overlap threshold to 30% for the predictions.\n",
        "  - `.json()`: Converts the prediction result into a JSON format.\n",
        "- `pred`: This variable now contains the JSON-formatted prediction results.\n",
        "\n",
        "\n",
        "Note:\n",
        "The exact functionality of `model.predict` and the structure of `pred` will depend on the specifics of the model and the framework or service you're using (like Roboflow)."
      ],
      "metadata": {
        "id": "uhh0oh1hyDYK"
      }
    },
    {
      "cell_type": "markdown",
      "source": [
        "✅ End of Experiment 1"
      ],
      "metadata": {
        "id": "7oHZtQJt3KxU"
      }
    }
  ],
  "metadata": {
    "colab": {
      "provenance": []
    },
    "kernelspec": {
      "display_name": "Python 3",
      "name": "python3"
    },
    "language_info": {
      "name": "python"
    }
  },
  "nbformat": 4,
  "nbformat_minor": 0
}